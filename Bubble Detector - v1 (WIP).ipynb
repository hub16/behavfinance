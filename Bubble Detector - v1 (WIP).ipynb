{
 "cells": [
  {
   "cell_type": "markdown",
   "metadata": {},
   "source": [
    "# JLS Bubble Detector - v1 (WIP)\n",
    "\n",
    "*This version: 6 October 2018*\n",
    "\n",
    "This is an annotated, work-in-progress attempt to build and test the bubble detector (and associated tech) in Gerlach, Demos, and Sornette (2018) (https://papers.ssrn.com/sol3/papers.cfm?abstract_id=3164246).\n",
    "\n",
    "Doing this involves:\n",
    "\n",
    "1. Grabbing a time series of prices for the web\n",
    "2. Fitting an equation that supposedly describes when bubbles begin and end\n",
    "3. Creating forecasting indicators from a bunch of fits and other criteria\n",
    "4. Evaluating the performance of the resulting system\n",
    "\n",
    "Steps (1) and (2) are done. But I'm currently stuck in a - temporary hopefully! - motivational rut with starting (3). **I've written this so that you can see what I've done so far and get up to speed for when I'm out of the doldrums.**"
   ]
  },
  {
   "cell_type": "markdown",
   "metadata": {},
   "source": [
    "### 0. Importing the Python packages used in this project"
   ]
  },
  {
   "cell_type": "code",
   "execution_count": 3,
   "metadata": {},
   "outputs": [],
   "source": [
    "import requests\n",
    "import pandas as pd\n",
    "import numpy as np\n",
    "import matplotlib.pyplot as plt\n",
    "from scipy.linalg import inv, solve, det\n",
    "from scipy.optimize import leastsq"
   ]
  },
  {
   "cell_type": "markdown",
   "metadata": {},
   "source": [
    "### 1. Getting a time series of prices\n",
    "\n",
    "Price data come from the Alpha Vantage API (https://www.alphavantage.co/). It's free and great to use.\n",
    "\n",
    "The next bit of code pulls the entire time series of prices for an example company (Facebook) and puts it into a 'dataframe' (Python's equivalent of an Excel spreadsheet)."
   ]
  },
  {
   "cell_type": "code",
   "execution_count": 8,
   "metadata": {},
   "outputs": [
    {
     "data": {
      "image/png": "[encoded data removed]",
      "text/plain": [
       "<Figure size 432x288 with 1 Axes>"
      ]
     },
     "metadata": {},
     "output_type": "display_data"
    }
   ],
   "source": [
    "# Request the data\n",
    "\n",
    "r = requests.get('https://www.alphavantage.co/query?function=TIME_SERIES_DAILY&symbol=MSFT&apikey=83SCGSM1BQW0WE86&datatype=csv')\n",
    "url = 'https://www.alphavantage.co/query?function=TIME_SERIES_DAILY&symbol=FB&outputsize=full&apikey=83SCGSM1BQW0WE86&datatype=csv'\n",
    "\n",
    "# Format and save to .csv so we don't need to keep querying for it\n",
    "\n",
    "source = requests.get(url).content.decode().split(\"\\n\") # Formats the .csv file into something we can use\n",
    "df = pd.read_csv(url, index_col=0, parse_dates=True) # Reads in the .csv file\n",
    "df.to_csv('FBprices.csv')\n",
    "\n",
    "# What we have:\n",
    "\n",
    "df['close'].plot() \n",
    "plt.show() # This and the line above plot closing prices"
   ]
  },
  {
   "cell_type": "markdown",
   "metadata": {},
   "source": [
    "### 2. Fitting a 'Log-Periodic Power Law Singularity' (LPPLS) model to the time series of prices\n",
    "\n",
    "The heart of this project is an equation that describes two features of some speculative bubbles seen in financial data:\n",
    "\n",
    "1. Prices accelerate at a faster-than-exponential rate\n",
    "2. Prices show an increasing frequency of volatility fluctuations \n",
    "\n",
    "These two features are derived from a theory by Sornette (1995) and Johansen et al. (1999, 2000) - this is where the 'JLS' comes from - that use ideas from forecasting earthquakes. \n",
    "\n",
    "Here is a TED talk by Sornette about it and 'predicting the next financial crisis': https://www.ted.com/talks/didier_sornette_how_we_can_predict_the_next_financial_crisis?language=en. One goal of this project is to see for ourselves whether ths is true!\n",
    "\n",
    "And here's the equation:\n",
    "\n",
    "$$ E(ln(p(t)) = A + (t_{c}-t)^{m}(B+C_{1}\\cos(\\omega\\ln(t_{c}-t))+C_{2}\\sin(\\omega\\ln(t_{c}-t))) $$\n",
    "\n",
    "There are seven parameters to estimate:\n",
    "\n",
    "* Four linear parameters: $A$, $B$, $C_{1}$ and $C_{2}$\n",
    "* Three non-linear parameters: $m$, $\\omega$, and $t_{c}$\n",
    "\n",
    "The key parameter is $t_{c}$, which is when the bubble is expected to pop.\n",
    "\n",
    "Estimating this equation is rather involved. It happens in two steps:\n",
    "\n",
    "1. Estimates for the linear parameters (for a given set of non-linear params) are found using OLS, which produces closed-form expressions for these\n",
    "2. Estimates for the non-linear parameters are found using non-linear least squares and the Levenberg-Marquadt algorithm\n",
    "\n",
    "Code for this is below. (You may remember that it took me a few tries to get this working!)"
   ]
  },
  {
   "cell_type": "code",
   "execution_count": 11,
   "metadata": {},
   "outputs": [
    {
     "name": "stdout",
     "output_type": "stream",
     "text": [
      "[1.60799986e+03 7.59409913e-01 1.00082372e+01]\n",
      "26.490683966182804\n"
     ]
    }
   ],
   "source": [
    "## Load dataset obtained earlier\n",
    "\n",
    "df = pd.read_csv('FBprices.csv', index_col=0, parse_dates=True)\n",
    "\n",
    "#Start with the approach from Attempt 2\n",
    "\n",
    "## Variables\n",
    "\n",
    "# Intercept (column vector of ones)\n",
    "\n",
    "df['const'] = 1\n",
    "\n",
    "# Time counter\n",
    "\n",
    "df['t'] = list(reversed(range(len(df['const']))))\n",
    "\n",
    "# Initial values\n",
    "\n",
    "tc = len(df['const'])+1 # tomorrow\n",
    "m = 0.5 # within recommended filter bound\n",
    "ω = 10 # within recommended filter bound\n",
    "\n",
    "# Definitions and functions\n",
    "\n",
    "const = np.array(df['const'])\n",
    "x0 = np.array([tc,m,ω])\n",
    "t = np.array(df['t'])\n",
    "p = np.array(df['close']).T\n",
    "y = np.log(p)\n",
    "\n",
    "def f(x0, t):\n",
    "    return x0[0] - t**x0[1]\n",
    "\n",
    "def g(x0, t):\n",
    "    return ((x0[0]-t)**x0[1])*np.cos(x0[2]*np.log(x0[0]-t))\n",
    "               \n",
    "def h(x0,t):\n",
    "    return ((x0[0]-t)**x0[1])*np.sin(x0[2]*np.log(x0[0]-t))\n",
    "\n",
    "def X(const, x0, t):\n",
    "    return np.array([const, f(x0,t), g(x0,t), h(x0,t)]).T\n",
    "\n",
    "def β_hat(const, x0, t):\n",
    "    return inv(X(const, x0, t).T @ X(const, x0, t)) @ X(const, x0, t).T @ y\n",
    "\n",
    "def residual(const, x0, t):\n",
    "    \n",
    "    A_hat = const*β_hat(const,x0,t)[0]\n",
    "    B_hat = β_hat(const,x0,t)[1]\n",
    "    C_1_hat = β_hat(const,x0,t)[2]\n",
    "    C_2_hat = β_hat(const,x0,t)[3]\n",
    "    \n",
    "    return y - A_hat - B_hat*f(x0,t) - C_1_hat*g(x0,t) - C_2_hat*h(x0,t)\n",
    "\n",
    "## Non-linear least squares\n",
    "\n",
    "# Approximating the Jacobian via finite differences\n",
    "\n",
    "δ = 0.0001 #adjustable perturbation\n",
    "\n",
    "tc_perturb_plus = np.array([tc+δ,m,ω])\n",
    "tc_perturb_minus = np.array([tc-δ,m,ω])\n",
    "m_perturb_plus = np.array([tc,m+δ,ω])\n",
    "m_perturb_minus = np.array([tc,m-δ,ω])\n",
    "ω_perturb_plus = np.array([tc,m,ω+δ])\n",
    "ω_perturb_minus = np.array([tc,m,ω-δ])\n",
    "\n",
    "def J(const, x0, t):\n",
    "    \n",
    "    tc_dev = (residual(const, tc_perturb_plus, t) - residual(const, tc_perturb_minus, t)) / 2*δ\n",
    "    m_dev = (residual(const, m_perturb_plus, t) - residual(const, m_perturb_minus, t)) / 2*δ\n",
    "    ω_dev = (residual(const, ω_perturb_plus, t) - residual(const, ω_perturb_minus, t)) / 2*δ\n",
    "    \n",
    "    return np.array([tc_dev, m_dev, ω_dev]).T\n",
    "    \n",
    "# Levenberg-Marquardt algorithm\n",
    "\n",
    "iterations = 100 # adjust this as needed\n",
    "λ = 1 # initial damping parameter\n",
    "ssr0 = (residual(const, x0, t)**2).sum() # initial sum of squared residuals\n",
    "i =0\n",
    "\n",
    "while i<iterations:\n",
    "    x1 = x0 - (inv(J(const, x0, t).T @ J(const, x0, t) + λ*np.identity(3)) @ J(const, x0, t).T @ residual(const, x0, t)) # tentative iterate\n",
    "    ssr1 = (residual(const, x1, t)**2).sum()\n",
    "    if ssr1 < ssr0:\n",
    "        λ = 0.8*λ\n",
    "        x0 = x1\n",
    "        ssr0 = ssr1\n",
    "        i = i+1\n",
    "    else:\n",
    "        λ = 2*λ\n",
    "        ssr0 = ssr1\n",
    "        \n",
    "print(x0) # these are the final estimates of the three non-linear parameters - see the first row below\n",
    "print(ssr0) # this is the sum of squared residuals after the LM algorithm has run its course - see the second row"
   ]
  },
  {
   "cell_type": "markdown",
   "metadata": {},
   "source": [
    "Here is a plot of the prices and our fitted equation:\n",
    "\n"
   ]
  },
  {
   "cell_type": "code",
   "execution_count": 13,
   "metadata": {},
   "outputs": [
    {
     "data": {
      "image/png": "[encoded data removed]",
      "text/plain": [
       "<Figure size 432x288 with 1 Axes>"
      ]
     },
     "metadata": {},
     "output_type": "display_data"
    }
   ],
   "source": [
    "## Plotting the results\n",
    "\n",
    "df['y_hat'] = const*β_hat(const,x0,t)[0] + β_hat(const,x0,t)[1]*f(x0,t) + β_hat(const,x0,t)[2]*g(x0,t) + β_hat(const,x0,t)[3]*h(x0,t)\n",
    "df['y'] = y\n",
    "\n",
    "df['y_hat'].plot()\n",
    "df['y'].plot()\n",
    "plt.show()"
   ]
  },
  {
   "cell_type": "markdown",
   "metadata": {},
   "source": [
    "### 3. Creating ex-ante bubble indicators: the LPPLS Confidence Indicator and ensemble forecasting\n",
    "\n",
    "What we've done is cool, but has little value. This is because it doesn't really make sense to characterise the entire FB price series as one giant bubble.\n",
    "\n",
    "The predictive value of doing this isn't. One thing I often wonder about is how the LPPLS equation can predict prices - already a very eyebrow-raising claim - when it can be fit to *any* time series, and when the data for it to get a good fit are only there for use when the bubble has already happened.\n",
    "\n",
    "Gerlach, Demos, and Sornette's (2018) solution to this (see the foundation paper at the top of this note) - which underpins what their Financial Crisis Observatory does - has two parts. The first is create a risk indicator of when something is becoming a bubble. The risk indicator is called the 'LPPLS Confidence Indicator'. It's constructed by defining what a 'qualifying' bubble should look like, and then repeatedly fitting the LPPLS model to different time windows to see whether the estimates start looking suspiciously like this. Specifically, they:\n",
    "\n",
    "1. Define qualifying values for what 'legitimate' bubble parameters are (see Table 2 on page 19 of their paper and other filtering criteria p. 7). Estimates that fall outside these ranges are struck out.\n",
    "2. Take a rolling time window, e.g. the past 30-120 days, and fit the LPPLS model to each of these (the last 120, 119, 118... up to the last 30 days) windows.\n",
    "3. Calculate the fraction of fits that 'qualify' - the higher the fraction, the more likely a bubble is happening. This fraction is the 'LPPLS Confidence Indicator'.\n",
    "\n",
    "Building this would be a big milestone for this project. If we had these confidence measures, we could then ask questions like 'when does an estimate of $t_{c}$ become stable?' or 'what level of confidence % should we buy at or get out at / warn others about?'\n",
    "\n",
    "The second thing the authors do is to forecast when a bubble will burst. They do this using a 'k-means' clustering method which I don't understand right now.\n",
    "\n",
    "**This is where the project is up to at the time of writing.** I've had a bit of trouble learning to work with times and dates in Python and doing repeated fits, but those are the next steps."
   ]
  },
  {
   "cell_type": "code",
   "execution_count": null,
   "metadata": {},
   "outputs": [],
   "source": []
  }
 ],
 "metadata": {
  "kernelspec": {
   "display_name": "Python 3",
   "language": "python",
   "name": "python3"
  },
  "language_info": {
   "codemirror_mode": {
    "name": "ipython",
    "version": 3
   },
   "file_extension": ".py",
   "mimetype": "text/x-python",
   "name": "python",
   "nbconvert_exporter": "python",
   "pygments_lexer": "ipython3",
   "version": "3.6.5"
  }
 },
 "nbformat": 4,
 "nbformat_minor": 2
}
