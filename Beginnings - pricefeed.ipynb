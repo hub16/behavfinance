{
 "cells": [
  {
   "cell_type": "markdown",
   "metadata": {},
   "source": [
    "# 1. Daily closing prices for Facebook"
   ]
  },
  {
   "cell_type": "markdown",
   "metadata": {},
   "source": [
    "## Obtain and plot price data"
   ]
  },
  {
   "cell_type": "code",
   "execution_count": 6,
   "metadata": {},
   "outputs": [
    {
     "data": {
      "image/png": "[encoded data removed]",
      "text/plain": [
       "<Figure size 432x288 with 1 Axes>"
      ]
     },
     "metadata": {},
     "output_type": "display_data"
    }
   ],
   "source": [
    "import requests\n",
    "import pandas as pd\n",
    "import numpy as np\n",
    "import matplotlib.pyplot as plt\n",
    "from scipy.linalg import inv, solve, det\n",
    "from scipy.optimize import leastsq\n",
    "\n",
    "r = requests.get('https://www.alphavantage.co/query?function=TIME_SERIES_DAILY&symbol=MSFT&apikey=83SCGSM1BQW0WE86&datatype=csv')\n",
    "url = 'https://www.alphavantage.co/query?function=TIME_SERIES_DAILY&symbol=FB&outputsize=full&apikey=83SCGSM1BQW0WE86&datatype=csv'\n",
    "source = requests.get(url).content.decode().split(\"\\n\")\n",
    "\n",
    "data = pd.read_csv(url, index_col=0, parse_dates=True)\n",
    "data.head()\n",
    "data['close'].plot()\n",
    "plt.show()"
   ]
  },
  {
   "cell_type": "code",
   "execution_count": 7,
   "metadata": {},
   "outputs": [],
   "source": [
    "# Further data work and saving to .csv\n",
    "\n",
    "data.head()\n",
    "data.to_csv('FBprices.csv')"
   ]
  },
  {
   "cell_type": "markdown",
   "metadata": {},
   "source": [
    "**Notes and current to-dos:**\n",
    "\n",
    "* (DONE) Store dataset\n",
    "* More companies (note can only request from Alpha Vantage five times every min)\n",
    "* Update and store data in a structured, separate panel dataset created by the queries that is regularly updated - initial work will happen on this\n",
    "* Basic summary stats for prices - this will later become an indicator table\n",
    "* Non-price indicators, e.g. other financial data (may have to pull this from another source)"
   ]
  },
  {
   "cell_type": "markdown",
   "metadata": {},
   "source": [
    "## Estimation"
   ]
  },
  {
   "cell_type": "markdown",
   "metadata": {},
   "source": [
    "## LPPL math - working"
   ]
  },
  {
   "cell_type": "code",
   "execution_count": 163,
   "metadata": {},
   "outputs": [
    {
     "name": "stdout",
     "output_type": "stream",
     "text": [
      "[-0.99017597 -0.89978865 -0.88738378 ... -0.07780217  0.02331315\n",
      "  0.13563122]\n"
     ]
    }
   ],
   "source": [
    "## Variables\n",
    "\n",
    "# Intercept (column vector of ones)\n",
    "\n",
    "data['const'] = 1\n",
    "\n",
    "# Time counter\n",
    "\n",
    "data['t'] = range(len(data['const']))\n",
    "\n",
    "# Initial values\n",
    "\n",
    "data['tc'] = len(data['const'])+1 # currently tomorrow\n",
    "data['m'] = np.random.uniform(0, 1) # recommended filter bound\n",
    "data['ω'] = np.random.randint(4, 26) # recommended filter bound; integers for simplicity\n",
    "\n",
    "# Defining function to minimize\n",
    "\n",
    "const = np.array(data['const'])\n",
    "x0 = np.array([data['tc'],data['m'],data['ω']])\n",
    "t = np.array(data['t'])\n",
    "p = np.array(data['close']).T\n",
    "y = np.log(p)\n",
    "                 \n",
    "def f(x0, t):\n",
    "    return x0[0] - t**x0[1]\n",
    "\n",
    "def g(x0, t):\n",
    "    return ((x0[0]-t)**x0[1])*np.cos(x0[2]*np.log(x0[0]-t))\n",
    "               \n",
    "def h(x0,t):\n",
    "    return ((x0[0]-t)**x0[1])*np.sin(x0[2]*np.log(x0[0]-t))\n",
    "\n",
    "def X(const, x0, t):\n",
    "    return np.array([const, f(x0,t), g(x0,t), h(x0,t)]).T\n",
    "\n",
    "def β_hat(const, x0, t):\n",
    "    return inv(X(const, x0, t).T @ X(const, x0, t)) @ X(const, x0, t).T @ y\n",
    "\n",
    "def residual(const, x0, t):\n",
    "    \n",
    "    A_hat = const*β_hat(const,x0,t)[0]\n",
    "    B_hat = β_hat(const,x0,t)[1]\n",
    "    C_1_hat = β_hat(const,x0,t)[2]\n",
    "    C_2_hat = β_hat(const,x0,t)[3]\n",
    "\n",
    "    return y - A_hat - B_hat*f(x0,t) - C_1_hat*g(x0,t) - C_2_hat*h(x0,t)\n",
    "\n",
    "#nlparams = leastsq(residual, x0, args=(const, t))\n",
    "\n",
    "print(residual(const,x0,t))"
   ]
  },
  {
   "cell_type": "markdown",
   "metadata": {},
   "source": [
    "Want to implement the following:\n",
    "    \n",
    "$ln(p_{t}) = LPPL(\\phi,t) = A + B(f) + C_{1}(g) + C_{2}(h)$\n",
    "\n",
    "Where $\\phi = $\n",
    "\n",
    "(Up to here)"
   ]
  },
  {
   "cell_type": "code",
   "execution_count": 107,
   "metadata": {},
   "outputs": [
    {
     "name": "stdout",
     "output_type": "stream",
     "text": [
      "[[ 2.96574797e+00]\n",
      " [ 1.15215431e-02]\n",
      " [ 2.46769301e-05]\n",
      " [-8.40162208e-05]]\n"
     ]
    }
   ],
   "source": [
    "## 1. Variable creation\n",
    "\n",
    "# Column vector of ones (intercept)\n",
    "\n",
    "data['const'] = 1\n",
    "\n",
    "# Time counter\n",
    "\n",
    "data['t'] = range(len(data['const']))\n",
    "\n",
    "# Containers for the non-linear parameters w initial values\n",
    "\n",
    "data['tc'] = len(data['const'])+1 # currently tomorrow\n",
    "data['m'] = np.random.uniform(0, 1) # recommended filter bound\n",
    "data['ω'] = np.random.randint(4, 26) # recommended filter bound; integers for simplicity\n",
    "\n",
    "# Dependent variables (f, g, and h)\n",
    "\n",
    "data['f'] = (data['tc']-data['t'])**data['m']\n",
    "data['g'] = ((data['tc']-data['t'])**data['m'])*np.cos(data['ω']*np.log(data['tc']-data['t']))\n",
    "data['h'] = ((data['tc']-data['t'])**data['m'])*np.sin(data['ω']*np.log(data['tc']-data['t']))\n",
    "\n",
    "## 2. Slaving the linear parameters (OLS estimates)\n",
    "\n",
    "X = np.array([data['const'], data['f'], data['g'], data['h']]).T\n",
    "p = np.array([data['close']]).T\n",
    "y = np.log(p)\n",
    "\n",
    "β_hat = inv(X.T @ X) @ X.T @ y\n",
    "\n",
    "# Extracting slaved linear parameter estimates\n",
    "\n",
    "A_hat = β_hat[0]\n",
    "B_hat = β_hat[1]\n",
    "C_1_hat = β_hat[2]\n",
    "C_2_hat = β_hat[3]\n",
    "\n",
    "## 3. Estimating the non-linear parameters\n",
    "\n",
    "# Squared residuals\n",
    "\n",
    "data['A_hat'] = data['const']*A_hat # Gives it the proper dimensions\n",
    "data['y'] = y\n",
    "\n",
    "data['sqresid'] = (data['y'] - data['A_hat'] - B_hat*data['f'] - C_1_hat*data['g'] - C_2_hat*data['h'])**2\n",
    "\n",
    "# Sum of squared residuals\n",
    "\n",
    "data['ssr'] = data['sqresid'].sum()\n",
    "\n",
    "data.head()\n",
    "\n",
    "##SPARE CODE BEGINS HERE\n",
    "\n",
    "# data.head()\n",
    "\n",
    "#del df['column_name'] - reminder code for deleting variables\n",
    "\n",
    "#Optional container code below (simple loop)\n",
    "\n",
    "#nonlinparams = ['tc', 'm', 'ω']\n",
    "\n",
    "#for i in nonlinparams:\n",
    " #   data[i] = \"\"\n",
    "    \n",
    "#To improve the fit for future, use 'lmfit' from http://cars9.uchicago.edu/software/python/lmfit/lmfit.pdf)"
   ]
  }
 ],
 "metadata": {
  "kernelspec": {
   "display_name": "Python 3",
   "language": "python",
   "name": "python3"
  },
  "language_info": {
   "codemirror_mode": {
    "name": "ipython",
    "version": 3
   },
   "file_extension": ".py",
   "mimetype": "text/x-python",
   "name": "python",
   "nbconvert_exporter": "python",
   "pygments_lexer": "ipython3",
   "version": "3.6.5"
  }
 },
 "nbformat": 4,
 "nbformat_minor": 2
}
